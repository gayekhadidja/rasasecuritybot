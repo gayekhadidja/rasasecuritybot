{
 "cells": [
  {
   "cell_type": "code",
   "execution_count": 1,
   "id": "fe910bdc",
   "metadata": {},
   "outputs": [
    {
     "name": "stdout",
     "output_type": "stream",
     "text": [
      "Requirement already satisfied: nest_asyncio in c:\\programdata\\anaconda3\\lib\\site-packages (1.5.4)\n",
      "Note: you may need to restart the kernel to use updated packages.\n"
     ]
    }
   ],
   "source": [
    "pip install nest_asyncio"
   ]
  },
  {
   "cell_type": "code",
   "execution_count": null,
   "id": "53784399",
   "metadata": {},
   "outputs": [],
   "source": []
  },
  {
   "cell_type": "code",
   "execution_count": 2,
   "id": "b112c593",
   "metadata": {},
   "outputs": [
    {
     "name": "stdout",
     "output_type": "stream",
     "text": [
      "Event loop ready.\n"
     ]
    }
   ],
   "source": [
    "import nest_asyncio\n",
    "\n",
    "nest_asyncio.apply()\n",
    "print(\"Event loop ready.\")"
   ]
  },
  {
   "cell_type": "code",
   "execution_count": 3,
   "id": "995ca4a7",
   "metadata": {},
   "outputs": [],
   "source": [
    "## ETIMOTYCOME \n",
    "def extract_emojis(str):\n",
    "    return ''.join(c for c in str if c in emoji.UNICODE_EMOJI)\n",
    "\n",
    "    for key, val in ppl.items():\n",
    "        emojis=extract_emojis(str(ppl[key]))\n",
    "        count = Counter(emojis).most_common()[:10]\n",
    "\n",
    "    print(\"{}'s emojis:\\n {} \\n\".format(key, emojis))\n",
    "    print(\"Most common: {}\\n\\n\".format(count))"
   ]
  },
  {
   "cell_type": "code",
   "execution_count": 4,
   "id": "e36cfa14",
   "metadata": {},
   "outputs": [
    {
     "ename": "SyntaxError",
     "evalue": "invalid character in identifier (Temp/ipykernel_13812/3207471216.py, line 1)",
     "output_type": "error",
     "traceback": [
      "\u001b[1;36m  File \u001b[1;32m\"C:\\Users\\Khady\\AppData\\Local\\Temp/ipykernel_13812/3207471216.py\"\u001b[1;36m, line \u001b[1;32m1\u001b[0m\n\u001b[1;33m    extract_emojis(😏)\u001b[0m\n\u001b[1;37m                   ^\u001b[0m\n\u001b[1;31mSyntaxError\u001b[0m\u001b[1;31m:\u001b[0m invalid character in identifier\n"
     ]
    }
   ],
   "source": [
    "\n",
    "extract_emojis(😏)"
   ]
  },
  {
   "cell_type": "code",
   "execution_count": null,
   "id": "6d771ff1",
   "metadata": {},
   "outputs": [],
   "source": [
    "from PIL import Image\n",
    "img = Image.open('teletravail.png')\n",
    "img.show()"
   ]
  },
  {
   "cell_type": "code",
   "execution_count": null,
   "id": "f6d9d516",
   "metadata": {},
   "outputs": [],
   "source": [
    "import cv2 \n",
    "  \n",
    "image = cv2.imread('teletravail.png') \n",
    "  \n",
    "cv2.imshow('GFG', image) "
   ]
  },
  {
   "cell_type": "code",
   "execution_count": null,
   "id": "cb05627a",
   "metadata": {},
   "outputs": [],
   "source": [
    "pip install cv2"
   ]
  },
  {
   "cell_type": "code",
   "execution_count": null,
   "id": "d912f966",
   "metadata": {},
   "outputs": [],
   "source": [
    "from PIL import Image\n",
    "import numpy as np\n",
    "\n",
    "im_frame = Image.open('teletravail.png')\n",
    "np_frame = np.array(im_frame.getdata())\n",
    "print(np_frame)"
   ]
  },
  {
   "cell_type": "code",
   "execution_count": null,
   "id": "c973b39f",
   "metadata": {},
   "outputs": [],
   "source": [
    "import re \n"
   ]
  },
  {
   "cell_type": "code",
   "execution_count": null,
   "id": "0985fe49",
   "metadata": {},
   "outputs": [],
   "source": [
    "re.search(\"[A-Za-z]\" , nom)"
   ]
  },
  {
   "cell_type": "code",
   "execution_count": null,
   "id": "a11c45cc",
   "metadata": {},
   "outputs": [],
   "source": [
    "from tkinter import *\n",
    " \n",
    "root = Tk()\n",
    "canvas = Canvas(root)\n",
    "canvas.pack()\n",
    " \n",
    "photo = PhotoImage(file=\"teletravail.png\")\n",
    "\n",
    "canvas.create_image(50, 50, image=photo)\n",
    " \n",
    "root.mainloop()"
   ]
  },
  {
   "cell_type": "code",
   "execution_count": null,
   "id": "99c25337",
   "metadata": {},
   "outputs": [],
   "source": []
  },
  {
   "cell_type": "code",
   "execution_count": null,
   "id": "3e9bb833",
   "metadata": {},
   "outputs": [],
   "source": []
  },
  {
   "cell_type": "markdown",
   "id": "137bc6f5",
   "metadata": {},
   "source": [
    "### inserer une image "
   ]
  },
  {
   "cell_type": "code",
   "execution_count": null,
   "id": "f55fe1ae",
   "metadata": {},
   "outputs": [],
   "source": [
    "from tkinter import*\n",
    " \n",
    "# Définition du rectangle #\n",
    " \n",
    "Fenetre=Tk()\n",
    " \n",
    "Fenetre.title(\"Snake\")\n",
    "photo=PhotoImage(file=\"teletravail.png\")\n",
    " \n",
    "zone_dessin = Canvas(Fenetre,width=500,height=500,bg='yellow',bd=8,relief=\"ridge\")\n",
    " \n",
    " \n",
    "zone_dessin.create_image(250,250,image=photo)\n",
    " \n",
    "zone_dessin.pack()\n"
   ]
  },
  {
   "cell_type": "code",
   "execution_count": 7,
   "id": "447a57f9",
   "metadata": {},
   "outputs": [
    {
     "ename": "FileNotFoundError",
     "evalue": "[Errno 2] No such file or directory: 'essai'",
     "output_type": "error",
     "traceback": [
      "\u001b[1;31m---------------------------------------------------------------------------\u001b[0m",
      "\u001b[1;31mFileNotFoundError\u001b[0m                         Traceback (most recent call last)",
      "\u001b[1;32m~\\AppData\\Local\\Temp/ipykernel_13812/2321462006.py\u001b[0m in \u001b[0;36m<module>\u001b[1;34m\u001b[0m\n\u001b[0;32m     16\u001b[0m \u001b[1;33m\u001b[0m\u001b[0m\n\u001b[0;32m     17\u001b[0m \u001b[1;32mif\u001b[0m \u001b[0m__name__\u001b[0m \u001b[1;33m==\u001b[0m \u001b[1;34m'__main__'\u001b[0m\u001b[1;33m:\u001b[0m\u001b[1;33m\u001b[0m\u001b[1;33m\u001b[0m\u001b[0m\n\u001b[1;32m---> 18\u001b[1;33m     \u001b[0mcheckTodaysBirthdays\u001b[0m\u001b[1;33m(\u001b[0m\u001b[1;33m)\u001b[0m\u001b[1;33m\u001b[0m\u001b[1;33m\u001b[0m\u001b[0m\n\u001b[0m",
      "\u001b[1;32m~\\AppData\\Local\\Temp/ipykernel_13812/2321462006.py\u001b[0m in \u001b[0;36mcheckTodaysBirthdays\u001b[1;34m()\u001b[0m\n\u001b[0;32m      2\u001b[0m \u001b[1;33m\u001b[0m\u001b[0m\n\u001b[0;32m      3\u001b[0m \u001b[1;32mdef\u001b[0m \u001b[0mcheckTodaysBirthdays\u001b[0m\u001b[1;33m(\u001b[0m\u001b[1;33m)\u001b[0m\u001b[1;33m:\u001b[0m\u001b[1;33m\u001b[0m\u001b[1;33m\u001b[0m\u001b[0m\n\u001b[1;32m----> 4\u001b[1;33m     \u001b[0mfileName\u001b[0m \u001b[1;33m=\u001b[0m \u001b[0mopen\u001b[0m\u001b[1;33m(\u001b[0m\u001b[0mbirthdayFile\u001b[0m\u001b[1;33m,\u001b[0m \u001b[1;34m'r'\u001b[0m\u001b[1;33m)\u001b[0m\u001b[1;33m\u001b[0m\u001b[1;33m\u001b[0m\u001b[0m\n\u001b[0m\u001b[0;32m      5\u001b[0m     \u001b[0mtoday\u001b[0m \u001b[1;33m=\u001b[0m \u001b[0mtime\u001b[0m\u001b[1;33m.\u001b[0m\u001b[0mstrftime\u001b[0m\u001b[1;33m(\u001b[0m\u001b[1;34m'%m%d'\u001b[0m\u001b[1;33m)\u001b[0m\u001b[1;33m\u001b[0m\u001b[1;33m\u001b[0m\u001b[0m\n\u001b[0;32m      6\u001b[0m     \u001b[0mflag\u001b[0m \u001b[1;33m=\u001b[0m \u001b[1;36m0\u001b[0m\u001b[1;33m\u001b[0m\u001b[1;33m\u001b[0m\u001b[0m\n",
      "\u001b[1;31mFileNotFoundError\u001b[0m: [Errno 2] No such file or directory: 'essai'"
     ]
    }
   ],
   "source": [
    "birthdayFile = 'essai'\n",
    "  \n",
    "def checkTodaysBirthdays(): \n",
    "    fileName = open(birthdayFile, 'r') \n",
    "    today = time.strftime('%m%d') \n",
    "    flag = 0\n",
    "    for line in fileName: \n",
    "        if today in line: \n",
    "            line = line.split(' ') \n",
    "            flag =1\n",
    "            \n",
    "            os.system('notify-send \"Birthdays Today: ' + line[1] \n",
    "            + ' ' + line[2] + '\"') \n",
    "    if flag == 0: \n",
    "            os.system('notify-send \"No Birthdays Today!\"') \n",
    "  \n",
    "if __name__ == '__main__': \n",
    "    checkTodaysBirthdays() "
   ]
  },
  {
   "cell_type": "code",
   "execution_count": null,
   "id": "5bd5e957",
   "metadata": {},
   "outputs": [],
   "source": []
  }
 ],
 "metadata": {
  "kernelspec": {
   "display_name": "Python 3 (ipykernel)",
   "language": "python",
   "name": "python3"
  },
  "language_info": {
   "codemirror_mode": {
    "name": "ipython",
    "version": 3
   },
   "file_extension": ".py",
   "mimetype": "text/x-python",
   "name": "python",
   "nbconvert_exporter": "python",
   "pygments_lexer": "ipython3",
   "version": "3.8.12"
  }
 },
 "nbformat": 4,
 "nbformat_minor": 5
}
